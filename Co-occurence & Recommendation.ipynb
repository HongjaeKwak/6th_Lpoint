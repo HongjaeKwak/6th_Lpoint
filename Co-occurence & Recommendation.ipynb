{
 "cells": [
  {
   "cell_type": "code",
   "execution_count": 1,
   "metadata": {},
   "outputs": [],
   "source": [
    "import numpy as np\n",
    "import pandas as pd\n",
    "import logging\n",
    "from scipy import sparse\n",
    "\n",
    "import random\n",
    "import re"
   ]
  },
  {
   "cell_type": "code",
   "execution_count": 2,
   "metadata": {},
   "outputs": [],
   "source": [
    "trans = pd.read_csv('02거래정보.csv')\n",
    "trans = trans.query('pd_c != \"unknown\"').sort_values(by = 'pd_c').reset_index()\n",
    "trans = trans.drop(['index'], axis = 1)\n",
    "trans = trans[trans.pd_c != \"0667\"]\n",
    "trans = trans[trans.pd_c != \"0196\"]\n",
    "trans = trans[trans.pd_c != \"0524\"]\n",
    "item = pd.read_csv('04상품분류정보.csv')\n",
    "item = item.dropna()\n",
    "df = pd.read_csv('final.csv')\n",
    "df = df.query('trans != \"[]\"')"
   ]
  },
  {
   "cell_type": "markdown",
   "metadata": {},
   "source": [
    "### Preprocessing\n",
    "\n",
    "- Co-occuerence matrix를 만들기 위해 clnt_id와 pd_c의 범위를 0~고유값의 개수 로 변환함\n",
    "- count, jaccard, lift 방법을 사용할 수 있지만 평점 정보가 없기 때문에 count만 사용"
   ]
  },
  {
   "cell_type": "code",
   "execution_count": 3,
   "metadata": {},
   "outputs": [],
   "source": [
    "col_user_id = 'clnt_id'\n",
    "col_item_id = 'pd_c'\n",
    "n_users = trans.clnt_id.nunique()\n",
    "n_items = trans.pd_c.nunique()\n",
    "col_rating = 'rating'"
   ]
  },
  {
   "cell_type": "markdown",
   "metadata": {},
   "source": [
    "#### encoding"
   ]
  },
  {
   "cell_type": "code",
   "execution_count": 4,
   "metadata": {},
   "outputs": [],
   "source": [
    "vocab_users = {}\n",
    "num_users = 0\n",
    "for i in np.hstack([trans[col_user_id]]):\n",
    "    if vocab_users.get(i) != None:\n",
    "        continue\n",
    "    vocab_users[i] = num_users\n",
    "    num_users += 1\n",
    "    \n",
    "vocab_items = {}\n",
    "num_items = 0\n",
    "for i in np.hstack([trans[col_item_id]]):\n",
    "    if vocab_items.get(i) != None:\n",
    "        continue\n",
    "    vocab_items[i] = num_items\n",
    "    num_items += 1\n",
    "    \n",
    "encoded_users = [vocab_users[i] for i in trans[col_user_id]]\n",
    "encoded_items = [vocab_items[i] for i in trans[col_item_id]]"
   ]
  },
  {
   "cell_type": "code",
   "execution_count": 6,
   "metadata": {},
   "outputs": [],
   "source": [
    "df2 = pd.DataFrame({'clnt_id':encoded_users, col_item_id:encoded_items})\n",
    "df2[col_rating] = 1"
   ]
  },
  {
   "cell_type": "markdown",
   "metadata": {},
   "source": [
    "#### Make co-occurence matrix"
   ]
  },
  {
   "cell_type": "code",
   "execution_count": 7,
   "metadata": {},
   "outputs": [],
   "source": [
    "user_item_hits = sparse.coo_matrix((np.repeat(1, df2.shape[0]),\n",
    "                                    (df2[col_user_id], df2[col_item_id])),shape=(n_users, n_items),).tocsr()\n",
    "\n",
    "item_cooccurrence = user_item_hits.transpose().dot(user_item_hits)\n",
    "#item_cooccurrence = item_cooccurrence.multiply(item_cooccurrence >= 1)"
   ]
  },
  {
   "cell_type": "code",
   "execution_count": 8,
   "metadata": {},
   "outputs": [],
   "source": [
    "item_cooccurrence_count = item_cooccurrence.toarray()"
   ]
  },
  {
   "cell_type": "code",
   "execution_count": 9,
   "metadata": {},
   "outputs": [
    {
     "data": {
      "text/plain": [
       "array([[  52,    2,    2, ...,    0,    3,    3],\n",
       "       [   2,    5,    1, ...,    0,    0,    0],\n",
       "       [   2,    1,    7, ...,    0,    0,    0],\n",
       "       ...,\n",
       "       [   0,    0,    0, ...,    6,    2,    0],\n",
       "       [   3,    0,    0, ...,    2, 3103,  148],\n",
       "       [   3,    0,    0, ...,    0,  148,  564]], dtype=int32)"
      ]
     },
     "execution_count": 9,
     "metadata": {},
     "output_type": "execute_result"
    }
   ],
   "source": [
    "item_cooccurrence_count"
   ]
  },
  {
   "cell_type": "code",
   "execution_count": 13,
   "metadata": {},
   "outputs": [
    {
     "data": {
      "text/plain": [
       "(1664, 1664)"
      ]
     },
     "execution_count": 13,
     "metadata": {},
     "output_type": "execute_result"
    }
   ],
   "source": [
    "item_cooccurrence_count.shape"
   ]
  },
  {
   "cell_type": "code",
   "execution_count": 14,
   "metadata": {},
   "outputs": [
    {
     "data": {
      "text/plain": [
       "array([ 562,  352, 1391,  113,  219, 1613,  345,  960, 1209,  195],\n",
       "      dtype=int64)"
      ]
     },
     "metadata": {},
     "output_type": "display_data"
    },
    {
     "data": {
      "text/plain": [
       "pd_c                         197\n",
       "clac_nm1           Chilled Foods\n",
       "clac_nm2    Packaged Side Dishes\n",
       "clac_nm3          Packged Kimchi\n",
       "Name: 196, dtype: object"
      ]
     },
     "metadata": {},
     "output_type": "display_data"
    },
    {
     "data": {
      "text/html": [
       "<div>\n",
       "<style scoped>\n",
       "    .dataframe tbody tr th:only-of-type {\n",
       "        vertical-align: middle;\n",
       "    }\n",
       "\n",
       "    .dataframe tbody tr th {\n",
       "        vertical-align: top;\n",
       "    }\n",
       "\n",
       "    .dataframe thead th {\n",
       "        text-align: right;\n",
       "    }\n",
       "</style>\n",
       "<table border=\"1\" class=\"dataframe\">\n",
       "  <thead>\n",
       "    <tr style=\"text-align: right;\">\n",
       "      <th></th>\n",
       "      <th>pd_c</th>\n",
       "      <th>clac_nm1</th>\n",
       "      <th>clac_nm2</th>\n",
       "      <th>clac_nm3</th>\n",
       "    </tr>\n",
       "  </thead>\n",
       "  <tbody>\n",
       "    <tr>\n",
       "      <th>564</th>\n",
       "      <td>565</td>\n",
       "      <td>Fruits</td>\n",
       "      <td>Imported Fruits</td>\n",
       "      <td>Bananas</td>\n",
       "    </tr>\n",
       "    <tr>\n",
       "      <th>353</th>\n",
       "      <td>354</td>\n",
       "      <td>Dairy Products</td>\n",
       "      <td>Yogurt</td>\n",
       "      <td>Spoon Type Yogurts</td>\n",
       "    </tr>\n",
       "    <tr>\n",
       "      <th>1393</th>\n",
       "      <td>1394</td>\n",
       "      <td>Substitute Foods</td>\n",
       "      <td>Instant Noodles</td>\n",
       "      <td>Bibim Ramens</td>\n",
       "    </tr>\n",
       "    <tr>\n",
       "      <th>113</th>\n",
       "      <td>114</td>\n",
       "      <td>Beverages</td>\n",
       "      <td>Water</td>\n",
       "      <td>Water</td>\n",
       "    </tr>\n",
       "    <tr>\n",
       "      <th>220</th>\n",
       "      <td>221</td>\n",
       "      <td>Cleaning / Laundry / Bathroom Accessories</td>\n",
       "      <td>Cleaning Accessories</td>\n",
       "      <td>Trash Bags</td>\n",
       "    </tr>\n",
       "    <tr>\n",
       "      <th>1615</th>\n",
       "      <td>1616</td>\n",
       "      <td>Vegetables</td>\n",
       "      <td>Tofu / Bean Sprouts</td>\n",
       "      <td>Soybean Sprouts</td>\n",
       "    </tr>\n",
       "    <tr>\n",
       "      <th>346</th>\n",
       "      <td>347</td>\n",
       "      <td>Dairy Products</td>\n",
       "      <td>Milk</td>\n",
       "      <td>Fresh Milk</td>\n",
       "    </tr>\n",
       "    <tr>\n",
       "      <th>962</th>\n",
       "      <td>963</td>\n",
       "      <td>Meats</td>\n",
       "      <td>Domestic Porks</td>\n",
       "      <td>Domestic Porks - Variety Meats</td>\n",
       "    </tr>\n",
       "    <tr>\n",
       "      <th>1211</th>\n",
       "      <td>1212</td>\n",
       "      <td>Snack Foods</td>\n",
       "      <td>Snacks</td>\n",
       "      <td>Fruit Snacks</td>\n",
       "    </tr>\n",
       "    <tr>\n",
       "      <th>196</th>\n",
       "      <td>197</td>\n",
       "      <td>Chilled Foods</td>\n",
       "      <td>Packaged Side Dishes</td>\n",
       "      <td>Packged Kimchi</td>\n",
       "    </tr>\n",
       "  </tbody>\n",
       "</table>\n",
       "</div>"
      ],
      "text/plain": [
       "      pd_c                                   clac_nm1              clac_nm2  \\\n",
       "564    565                                     Fruits       Imported Fruits   \n",
       "353    354                             Dairy Products                Yogurt   \n",
       "1393  1394                           Substitute Foods       Instant Noodles   \n",
       "113    114                                  Beverages                 Water   \n",
       "220    221  Cleaning / Laundry / Bathroom Accessories  Cleaning Accessories   \n",
       "1615  1616                                 Vegetables   Tofu / Bean Sprouts   \n",
       "346    347                             Dairy Products                  Milk   \n",
       "962    963                                      Meats        Domestic Porks   \n",
       "1211  1212                                Snack Foods                Snacks   \n",
       "196    197                              Chilled Foods  Packaged Side Dishes   \n",
       "\n",
       "                            clac_nm3  \n",
       "564                          Bananas  \n",
       "353               Spoon Type Yogurts  \n",
       "1393                    Bibim Ramens  \n",
       "113                            Water  \n",
       "220                       Trash Bags  \n",
       "1615                 Soybean Sprouts  \n",
       "346                       Fresh Milk  \n",
       "962   Domestic Porks - Variety Meats  \n",
       "1211                    Fruit Snacks  \n",
       "196                   Packged Kimchi  "
      ]
     },
     "metadata": {},
     "output_type": "display_data"
    }
   ],
   "source": [
    "i_n = 195\n",
    "\n",
    "a = item_cooccurrence_count[i_n].copy()\n",
    "\n",
    "b = a.argsort()[-10:]\n",
    "\n",
    "display(b)\n",
    "\n",
    "display(item.iloc[i_n,:])\n",
    "\n",
    "c = item.iloc[b,]\n",
    "display(c)"
   ]
  },
  {
   "cell_type": "markdown",
   "metadata": {},
   "source": [
    "### Make Top-K list"
   ]
  },
  {
   "cell_type": "code",
   "execution_count": 15,
   "metadata": {},
   "outputs": [],
   "source": [
    "pattern = '([0-9]+)'"
   ]
  },
  {
   "cell_type": "code",
   "execution_count": 16,
   "metadata": {},
   "outputs": [],
   "source": [
    "pc = []\n",
    "for i in range(df.shape[0]):\n",
    "    a = df.iloc[i,1]\n",
    "    pd_c = re.findall(pattern, a[1:-1])\n",
    "    for j in range(len(pd_c)):\n",
    "        pd_c[j] = int(pd_c[j])\n",
    "    pc.append(pd_c)"
   ]
  },
  {
   "cell_type": "code",
   "execution_count": 17,
   "metadata": {},
   "outputs": [],
   "source": [
    "for i, pcc in enumerate(pc):\n",
    "    for j in range(len(pcc)):\n",
    "        if pcc[j] < 195:\n",
    "            pc[i][j] = pc[i][j]-1\n",
    "        elif 195 < pcc[j] < 523:\n",
    "            pc[i][j] = pc[i][j]-2\n",
    "        elif pcc[j] > 666:\n",
    "            pc[i][j] = pc[i][j]-3"
   ]
  },
  {
   "cell_type": "code",
   "execution_count": 18,
   "metadata": {},
   "outputs": [],
   "source": [
    "f = []\n",
    "for i, p in enumerate(pc):\n",
    "    c = []\n",
    "    g = []\n",
    "    for j in range(len(p)):\n",
    "        a = item_cooccurrence_count[p[j]].copy()\n",
    "        b = a.argsort()[-10:]\n",
    "        c.append(list(b))\n",
    "\n",
    "        answer = sum(c, [])\n",
    "        d = []\n",
    "        e = list(set(answer))\n",
    "\n",
    "        for k in range(10):\n",
    "            randomIndex = random.randrange(0,len(e))\n",
    "            d.append(e[randomIndex])\n",
    "            del e[randomIndex]\n",
    "            \n",
    "\n",
    "    f.append(d)"
   ]
  },
  {
   "cell_type": "code",
   "execution_count": 19,
   "metadata": {},
   "outputs": [],
   "source": [
    "reco_df = pd.DataFrame([],columns=['clnt_id', 'pd_c', 'clac_nm1', 'clac_nm2', 'clac_nm3'])\n",
    "for i, clnt in enumerate(df.clnt_id):\n",
    "    c = []\n",
    "    for h in range(10):\n",
    "        c.append(clnt)\n",
    "    data = pd.concat([pd.DataFrame(c, columns = ['clnt_id']),\n",
    "                      item.iloc[f[i],:].reset_index().drop(['index'], axis = 1)], axis = 1, sort=False)\n",
    "    reco_df = reco_df.append(data)"
   ]
  },
  {
   "cell_type": "code",
   "execution_count": 20,
   "metadata": {},
   "outputs": [],
   "source": [
    "reco_df.to_csv('top-10.csv', index = False)"
   ]
  },
  {
   "cell_type": "code",
   "execution_count": 21,
   "metadata": {},
   "outputs": [
    {
     "data": {
      "text/html": [
       "<div>\n",
       "<style scoped>\n",
       "    .dataframe tbody tr th:only-of-type {\n",
       "        vertical-align: middle;\n",
       "    }\n",
       "\n",
       "    .dataframe tbody tr th {\n",
       "        vertical-align: top;\n",
       "    }\n",
       "\n",
       "    .dataframe thead th {\n",
       "        text-align: right;\n",
       "    }\n",
       "</style>\n",
       "<table border=\"1\" class=\"dataframe\">\n",
       "  <thead>\n",
       "    <tr style=\"text-align: right;\">\n",
       "      <th></th>\n",
       "      <th>clnt_id</th>\n",
       "      <th>pd_c</th>\n",
       "      <th>clac_nm1</th>\n",
       "      <th>clac_nm2</th>\n",
       "      <th>clac_nm3</th>\n",
       "    </tr>\n",
       "  </thead>\n",
       "  <tbody>\n",
       "    <tr>\n",
       "      <th>0</th>\n",
       "      <td>65991</td>\n",
       "      <td>333</td>\n",
       "      <td>Cosmetics / Beauty Care</td>\n",
       "      <td>Skin Care</td>\n",
       "      <td>Beauty Soaps</td>\n",
       "    </tr>\n",
       "    <tr>\n",
       "      <th>1</th>\n",
       "      <td>65991</td>\n",
       "      <td>114</td>\n",
       "      <td>Beverages</td>\n",
       "      <td>Water</td>\n",
       "      <td>Water</td>\n",
       "    </tr>\n",
       "    <tr>\n",
       "      <th>2</th>\n",
       "      <td>65991</td>\n",
       "      <td>727</td>\n",
       "      <td>Health Foods</td>\n",
       "      <td>Red Ginsengs / Dried Ginseng Processed Foods</td>\n",
       "      <td>Dried Ginseng Processed Foods</td>\n",
       "    </tr>\n",
       "    <tr>\n",
       "      <th>3</th>\n",
       "      <td>65991</td>\n",
       "      <td>1616</td>\n",
       "      <td>Vegetables</td>\n",
       "      <td>Tofu / Bean Sprouts</td>\n",
       "      <td>Soybean Sprouts</td>\n",
       "    </tr>\n",
       "    <tr>\n",
       "      <th>4</th>\n",
       "      <td>65991</td>\n",
       "      <td>892</td>\n",
       "      <td>Liquors / Alcoholic Beverages</td>\n",
       "      <td>Alcoholic Beverage Sets</td>\n",
       "      <td>Wine Sets</td>\n",
       "    </tr>\n",
       "    <tr>\n",
       "      <th>5</th>\n",
       "      <td>65991</td>\n",
       "      <td>1661</td>\n",
       "      <td>Women's Clothing</td>\n",
       "      <td>Women's Upper Bodywear / Tops</td>\n",
       "      <td>Women's Blouses</td>\n",
       "    </tr>\n",
       "    <tr>\n",
       "      <th>6</th>\n",
       "      <td>65991</td>\n",
       "      <td>963</td>\n",
       "      <td>Meats</td>\n",
       "      <td>Domestic Porks</td>\n",
       "      <td>Domestic Porks - Variety Meats</td>\n",
       "    </tr>\n",
       "    <tr>\n",
       "      <th>7</th>\n",
       "      <td>65991</td>\n",
       "      <td>903</td>\n",
       "      <td>Liquors / Alcoholic Beverages</td>\n",
       "      <td>Traditional Liquors</td>\n",
       "      <td>Chinese Liquor</td>\n",
       "    </tr>\n",
       "    <tr>\n",
       "      <th>8</th>\n",
       "      <td>65991</td>\n",
       "      <td>841</td>\n",
       "      <td>Kids' Clothing</td>\n",
       "      <td>Preschoolers' Lower Bodywear / Bottoms</td>\n",
       "      <td>Infant / Toddlers' Leggings</td>\n",
       "    </tr>\n",
       "    <tr>\n",
       "      <th>9</th>\n",
       "      <td>65991</td>\n",
       "      <td>1315</td>\n",
       "      <td>Sport Fashion</td>\n",
       "      <td>Women's Golf Clothing</td>\n",
       "      <td>Women's Golf T-shirts / Tops</td>\n",
       "    </tr>\n",
       "  </tbody>\n",
       "</table>\n",
       "</div>"
      ],
      "text/plain": [
       "  clnt_id  pd_c                       clac_nm1  \\\n",
       "0   65991   333        Cosmetics / Beauty Care   \n",
       "1   65991   114                      Beverages   \n",
       "2   65991   727                   Health Foods   \n",
       "3   65991  1616                     Vegetables   \n",
       "4   65991   892  Liquors / Alcoholic Beverages   \n",
       "5   65991  1661               Women's Clothing   \n",
       "6   65991   963                          Meats   \n",
       "7   65991   903  Liquors / Alcoholic Beverages   \n",
       "8   65991   841                 Kids' Clothing   \n",
       "9   65991  1315                  Sport Fashion   \n",
       "\n",
       "                                       clac_nm2  \\\n",
       "0                                     Skin Care   \n",
       "1                                         Water   \n",
       "2  Red Ginsengs / Dried Ginseng Processed Foods   \n",
       "3                           Tofu / Bean Sprouts   \n",
       "4                       Alcoholic Beverage Sets   \n",
       "5                 Women's Upper Bodywear / Tops   \n",
       "6                                Domestic Porks   \n",
       "7                           Traditional Liquors   \n",
       "8        Preschoolers' Lower Bodywear / Bottoms   \n",
       "9                         Women's Golf Clothing   \n",
       "\n",
       "                         clac_nm3  \n",
       "0                    Beauty Soaps  \n",
       "1                           Water  \n",
       "2   Dried Ginseng Processed Foods  \n",
       "3                 Soybean Sprouts  \n",
       "4                       Wine Sets  \n",
       "5                 Women's Blouses  \n",
       "6  Domestic Porks - Variety Meats  \n",
       "7                  Chinese Liquor  \n",
       "8     Infant / Toddlers' Leggings  \n",
       "9    Women's Golf T-shirts / Tops  "
      ]
     },
     "execution_count": 21,
     "metadata": {},
     "output_type": "execute_result"
    }
   ],
   "source": [
    "reco_df[reco_df.clnt_id == list(set(reco_df.clnt_id))[115]]"
   ]
  }
 ],
 "metadata": {
  "kernelspec": {
   "display_name": "Python 3",
   "language": "python",
   "name": "python3"
  },
  "language_info": {
   "codemirror_mode": {
    "name": "ipython",
    "version": 3
   },
   "file_extension": ".py",
   "mimetype": "text/x-python",
   "name": "python",
   "nbconvert_exporter": "python",
   "pygments_lexer": "ipython3",
   "version": "3.7.4"
  }
 },
 "nbformat": 4,
 "nbformat_minor": 2
}
